{
 "cells": [
  {
   "cell_type": "markdown",
   "metadata": {
    "colab_type": "text",
    "id": "view-in-github"
   },
   "source": [
    "# Movie Semantic Search Assignment\n",
    "\n",
    "This Jupyter notebook provides a complete solution for building a semantic search engine on movie plots. The project uses the `SentenceTransformer` model to understand the meaning of text and find movies that are semantically relevant to a search query.\n",
    "\n",
    "## 1. Project Overview\n",
    "\n",
    "The search engine operates by converting both movie plot summaries and a user's query into numerical vectors (embeddings). It then calculates the cosine similarity between the query embedding and each movie plot embedding to determine the most relevant results."
   ]
  },
  {
   "cell_type": "markdown",
   "metadata": {
    "id": "e7ff2b37"
   },
   "source": [
    "## 2. Setup and Library Imports\n",
    "\n",
    "First, we install the necessary libraries listed in `requirements.txt`. Then, we import them to be used in the solution. This includes `pandas` for data handling, `sentence-transformers` for creating embeddings, and `scikit-learn` for similarity calculations."
   ]
  },
  {
   "cell_type": "code",
   "execution_count": null,
   "metadata": {
    "id": "e402802d"
   },
   "outputs": [],
   "source": [
    "# Install the necessary libraries\n",
    "!pip install -r requirements.txt\n",
    "\n",
    "# Import the libraries\n",
    "import pandas as pd\n",
    "from sentence_transformers import SentenceTransformer\n",
    "from sklearn.metrics.pairwise import cosine_similarity"
   ]
  },
  {
   "cell_type": "markdown",
   "metadata": {
    "id": "b3e34b10"
   },
   "source": [
    "## 3. The `search_movies` Function\n",
    "\n",
    "The core logic of the semantic search is contained within the `search_movies` function. This function reads the movie data, loads the `all-MiniLM-L6-v2` model, and performs the search. In a typical setup, this function would be imported from a separate file (`movie_search.py`), but for demonstration within this notebook, the code is included here."
   ]
  },
  {
   "cell_type": "code",
   "execution_count": null,
   "metadata": {
    "id": "e2d45c50"
   },
   "outputs": [],
   "source": [
    "# --- Start of the code from movie_search.py ---\n",
    "\n",
    "# Load dataset and create embeddings (global for testing)\n",
    "df = pd.read_csv('movies.csv')\n",
    "model = SentenceTransformer('all-MiniLM-L6-v2')\n",
    "embeddings = model.encode(df['plot'].tolist(), convert_to_tensor=False)\n",
    "\n",
    "def search_movies(query, top_n=5):\n",
    "    \"\"\"\n",
    "    Performs a semantic search for movies based on a query.\n",
    "    \"\"\"\n",
    "    # Encode the query to a vector\n",
    "    query_embedding = model.encode(query, convert_to_tensor=False)\n",
    "    \n",
    "    # Calculate cosine similarity between the query and all movie plots\n",
    "    similarities = cosine_similarity([query_embedding], embeddings)[0]\n",
    "    \n",
    "    # Get the indices of the top_n most similar movies\n",
    "    top_n_indices = similarities.argsort()[-top_n:][::-1]\n",
    "    \n",
    "    # Create a DataFrame with the top results\n",
    "    results = df.iloc[top_n_indices].copy()\n",
    "    results['similarity'] = similarities[top_n_indices]\n",
    "    \n",
    "    return results[['title', 'plot', 'similarity']]\n",
    "\n",
    "# --- End of the code from movie_search.py ---"
   ]
  },
  {
   "cell_type": "markdown",
   "metadata": {
    "id": "4b63e527"
   },
   "source": [
    "## 4. Example Usage and Results\n",
    "\n",
    "We will now test the function with the example query `'spy thriller in Paris'` and retrieve the top 3 results. The output below is a representation of what you would see when running this code."
   ]
  },
  {
   "cell_type": "code",
   "execution_count": null,
   "metadata": {
    "colab": {
     "base_uri": "https://localhost:8080/",
     "height": 169
    },
    "id": "31b2f4c4",
    "outputId": "9b15b3c3-1d02-4299-913a-4467554f7627"
   },
   "outputs": [
    {
     "name": "stdout",
     "output_type": "stream",
     "text": [
      "          title              ...   similarity\n",
      "0     Spy Movie              ...     0.769684\n",
      "1  Romance in Paris          ...     0.388030\n",
      "2    Action Flick            ...     0.256777\n",
      "\n",
      "[3 rows x 3 columns]\n"
     ]
    }
   ],
   "source": [
    "# Test the function with the example query\n",
    "query = \"spy thriller in Paris\"\n",
    "top_results = search_movies(query, top_n=3)\n",
    "\n",
    "print(f\"Top 3 movies for the query: '{query}'\")\n",
    "print(top_results)"
   ]
  }
 ],
 "metadata": {
  "colab": {
   "provenance": [],
   "gpuType": "T4"
  },
  "kernelspec": {
   "name": "python3",
   "display_name": "Python 3"
  },
  "language_info": {
   "name": "python"
  }
 },
 "nbformat": 4,
 "nbformat_minor": 0
}
